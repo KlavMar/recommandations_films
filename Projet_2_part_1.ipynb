{
  "cells": [
    {
      "cell_type": "markdown",
      "metadata": {
        "id": "view-in-github",
        "colab_type": "text"
      },
      "source": [
        "<a href=\"https://colab.research.google.com/github/KlavMar/recommandations_films/blob/main/Projet_2_part_1.ipynb\" target=\"_parent\"><img src=\"https://colab.research.google.com/assets/colab-badge.svg\" alt=\"Open In Colab\"/></a>"
      ]
    },
    {
      "cell_type": "code",
      "execution_count": null,
      "metadata": {
        "id": "8lLRG2sDLQZs"
      },
      "outputs": [],
      "source": [
        "import matplotlib.pyplot as plt\n",
        "import pandas as pd\n",
        "import numpy as np\n",
        "import datetime as dt\n",
        "import seaborn as sns\n",
        "import plotly.express as px"
      ]
    },
    {
      "cell_type": "markdown",
      "metadata": {
        "id": "qgLaAqNQPd17"
      },
      "source": [
        "## CSV"
      ]
    },
    {
      "cell_type": "markdown",
      "metadata": {
        "id": "2n9MTNtWgBJz"
      },
      "source": [
        "### Name Basic"
      ]
    },
    {
      "cell_type": "markdown",
      "metadata": {
        "id": "NFdfnYfdMS4W"
      },
      "source": [
        "\n",
        "* nconst = id \n",
        "* PrimaryName=nom de la personne \n",
        "* BirthDay=Année de naissance de la personne \n",
        "* PrimaryProfession=Métier connu pour ses personnes \n",
        "* KnowForTtitle=titres pour lesquels la personne est connu "
      ]
    },
    {
      "cell_type": "code",
      "execution_count": null,
      "metadata": {
        "id": "6rqUiYJ_c7mG"
      },
      "outputs": [],
      "source": [
        "#.replace([\"\\\\N\"],np.nan)"
      ]
    },
    {
      "cell_type": "code",
      "execution_count": null,
      "metadata": {
        "colab": {
          "base_uri": "https://localhost:8080/"
        },
        "id": "u8MLtenmH4Qv",
        "outputId": "0224cc94-e492-4f47-f532-1d06cb259f72"
      },
      "outputs": [
        {
          "output_type": "stream",
          "name": "stdout",
          "text": [
            "CPU times: user 39.5 s, sys: 2.68 s, total: 42.2 s\n",
            "Wall time: 44.1 s\n"
          ]
        }
      ],
      "source": [
        "%%time\n",
        "df_name_basics=pd.DataFrame()\n",
        "chunk=pd.read_csv(\"https://datasets.imdbws.com/name.basics.tsv.gz\",\n",
        "                      sep=\"\\t\",index_col=\"nconst\",\n",
        "                      engine='c',chunksize=500000)\n",
        "\n",
        "for i in chunk:\n",
        "    df_name_basics=pd.concat([df_name_basics,i.replace([\"//N\",np.nan])])\n"
      ]
    },
    {
      "cell_type": "markdown",
      "metadata": {
        "id": "RoSkWdJugBJ4"
      },
      "source": [
        "### Tilte Akas "
      ]
    },
    {
      "cell_type": "markdown",
      "metadata": {
        "id": "v5773PSnNFWr"
      },
      "source": [
        "\n",
        "* TitleId=Identifiant unique du titre \n",
        "* Title = Le titre de façon locale \n",
        "* Région = région pour la version du titre -> sert de filtre \n"
      ]
    },
    {
      "cell_type": "code",
      "execution_count": null,
      "metadata": {
        "colab": {
          "base_uri": "https://localhost:8080/"
        },
        "id": "h0arf9B-IKgv",
        "outputId": "abf29f7a-101f-4c94-e4b0-79cdfcd6749a"
      },
      "outputs": [
        {
          "output_type": "stream",
          "name": "stdout",
          "text": [
            "CPU times: user 1min 9s, sys: 3.04 s, total: 1min 12s\n",
            "Wall time: 1min 14s\n"
          ]
        }
      ],
      "source": [
        "%%time\n",
        "df_title_akas=pd.DataFrame() \n",
        "chunk=pd.read_csv(\"https://datasets.imdbws.com/title.akas.tsv.gz\",\n",
        "                      sep=\"\\t\",\n",
        "                      index_col=\"titleId\",\n",
        "                      usecols=['titleId','title','region'],\n",
        "                      engine='c',chunksize=500000)\n",
        "\n",
        "for i in chunk:\n",
        "    #df_title_akas=pd.concat([df,i[i.region=='FR']])\n",
        "    df_title_akas=pd.concat([df_title_akas,i])"
      ]
    },
    {
      "cell_type": "markdown",
      "metadata": {
        "id": "8wsKiD_rgBJ7"
      },
      "source": [
        "### Title Basics "
      ]
    },
    {
      "cell_type": "markdown",
      "metadata": {
        "id": "nOhkFY0KNdH6"
      },
      "source": [
        "\n",
        "* tconst=id unique du film\n",
        "* titleType=type de format \n",
        "* primaryTitle=nom du titre le plus populaire lors de la commercialisation \n",
        "* isAdult = fitlre Adult \n",
        "* StartYear=date de sortie du film\n",
        "* RuntimesMinutes =temps de la vidéo \n",
        "* genre = jusqu'à 3 genre associés "
      ]
    },
    {
      "cell_type": "code",
      "execution_count": null,
      "metadata": {
        "colab": {
          "base_uri": "https://localhost:8080/"
        },
        "id": "w9407sp7IYEr",
        "outputId": "c911b91d-76ad-4f20-a49e-9569a2aaadba"
      },
      "outputs": [
        {
          "output_type": "stream",
          "name": "stdout",
          "text": [
            "CPU times: user 30 s, sys: 1.23 s, total: 31.2 s\n",
            "Wall time: 32.7 s\n"
          ]
        }
      ],
      "source": [
        "%%time \n",
        "df_title_basics=pd.DataFrame()\n",
        "chunk=pd.read_csv(\"https://datasets.imdbws.com/title.basics.tsv.gz\",sep=\"\\t\",\n",
        "                        index_col=0,\n",
        "                        usecols=['tconst','titleType','primaryTitle','startYear','runtimeMinutes','genres'],\n",
        "                        low_memory=False,engine='c',chunksize=500000)\n",
        "\n",
        "for i in chunk:\n",
        "    df_title_basics=pd.concat([df_title_basics,i])\n"
      ]
    },
    {
      "cell_type": "markdown",
      "metadata": {
        "id": "e-ygjTWJgBJ-"
      },
      "source": [
        "### Title Crew"
      ]
    },
    {
      "cell_type": "markdown",
      "metadata": {
        "id": "PwoAEZIWN5fh"
      },
      "source": [
        "\n",
        "* Tconst= identifiant unique du titre \n",
        "* directeurs \n",
        "* écrivains "
      ]
    },
    {
      "cell_type": "code",
      "execution_count": null,
      "metadata": {
        "colab": {
          "base_uri": "https://localhost:8080/"
        },
        "id": "tJPVWv60IYLt",
        "outputId": "199624a8-7dad-4431-e82f-e90dd6fc06be"
      },
      "outputs": [
        {
          "output_type": "stream",
          "name": "stdout",
          "text": [
            "CPU times: user 15.8 s, sys: 781 ms, total: 16.6 s\n",
            "Wall time: 18.1 s\n"
          ]
        }
      ],
      "source": [
        "%%time \n",
        "df_title_crew=pd.DataFrame()\n",
        "\n",
        "chunk=pd.read_csv(\"https://datasets.imdbws.com/title.crew.tsv.gz\",\n",
        "                      sep=\"\\t\",\n",
        "                      index_col=\"tconst\",chunksize=500000)\n",
        "\n",
        "for i in chunk:\n",
        "    df_title_crew=pd.concat([df_title_crew,i])\n",
        "\n",
        "    "
      ]
    },
    {
      "cell_type": "markdown",
      "metadata": {
        "id": "8lak02t6gBJ_"
      },
      "source": [
        "### Title Principals"
      ]
    },
    {
      "cell_type": "markdown",
      "metadata": {
        "id": "2UpL7_oQOB0h"
      },
      "source": [
        "\n",
        "* tconst = identifiant unique du titre \n",
        "* nconst = identifiant unique de la personne (jointure ? )\n",
        "* categorie = catégorie d'emploi\n",
        "* job = poste spécifique du film\n",
        "* caractère = le nom du personnage joué "
      ]
    },
    {
      "cell_type": "code",
      "execution_count": null,
      "metadata": {
        "colab": {
          "base_uri": "https://localhost:8080/"
        },
        "id": "gl1WZwMpIjzi",
        "outputId": "8dfb54b2-e85b-480e-dbcc-6e3a9f168718"
      },
      "outputs": [
        {
          "output_type": "stream",
          "name": "stdout",
          "text": [
            "CPU times: user 1min 36s, sys: 4.23 s, total: 1min 40s\n",
            "Wall time: 1min 42s\n"
          ]
        }
      ],
      "source": [
        "%%time \n",
        "df_title_principal=pd.DataFrame()\n",
        "\n",
        "chunk=pd.read_csv(\"https://datasets.imdbws.com/title.principals.tsv.gz\",\n",
        "                           sep=\"\\t\",\n",
        "                           index_col=\"tconst\",\n",
        "                           usecols=['tconst','nconst'],\n",
        "                           engine=\"c\",chunksize=500000)\n",
        "\n",
        "for i in chunk:\n",
        "    df_title_principal=pd.concat([df_title_principal,i])"
      ]
    },
    {
      "cell_type": "markdown",
      "metadata": {
        "id": "dicd2SrEgBKA"
      },
      "source": [
        "### Ratings"
      ]
    },
    {
      "cell_type": "markdown",
      "metadata": {
        "id": "_o-KKTM4Orue"
      },
      "source": [
        "\n",
        "* tconst = identifiant du film\n",
        "* averageRating = moyenne pondéré de toutes les évaluations indivuduelle des users \n",
        "* numVotes = nommbre de votes / films "
      ]
    },
    {
      "cell_type": "code",
      "execution_count": null,
      "metadata": {
        "colab": {
          "base_uri": "https://localhost:8080/"
        },
        "id": "2o1pDgLwIrna",
        "outputId": "e554d5c7-6a9a-4ecd-e8ed-8b5255a19614"
      },
      "outputs": [
        {
          "output_type": "stream",
          "name": "stdout",
          "text": [
            "CPU times: user 1.67 s, sys: 115 ms, total: 1.79 s\n",
            "Wall time: 2.38 s\n"
          ]
        }
      ],
      "source": [
        "%%time\n",
        "df_rating=pd.read_csv(\"https://datasets.imdbws.com/title.ratings.tsv.gz\",\n",
        "                   sep=\"\\t\",\n",
        "                   index_col=\"tconst\").replace([\"\\\\N\"],np.nan)"
      ]
    },
    {
      "cell_type": "code",
      "execution_count": null,
      "metadata": {
        "id": "3beMTambc7mV"
      },
      "outputs": [],
      "source": [
        "df_rating['average_rating']=(df_rating['averageRating']//1)"
      ]
    },
    {
      "cell_type": "markdown",
      "metadata": {
        "id": "TapTkGnpc7mW"
      },
      "source": [
        "# Export CSV "
      ]
    },
    {
      "cell_type": "code",
      "execution_count": null,
      "metadata": {
        "colab": {
          "base_uri": "https://localhost:8080/"
        },
        "id": "b_O9xBvadUlt",
        "outputId": "942322d2-3ad2-4316-8f1b-e19247550bfe"
      },
      "outputs": [
        {
          "output_type": "stream",
          "name": "stdout",
          "text": [
            "Mounted at /content/drive\n"
          ]
        }
      ],
      "source": [
        "from google.colab import drive\n",
        "drive.mount('/content/drive')"
      ]
    },
    {
      "cell_type": "code",
      "execution_count": null,
      "metadata": {
        "id": "jFBMFigOdRfI"
      },
      "outputs": [],
      "source": [
        "path=\"/content/drive/MyDrive/Colab Notebooks/WILD_CODE_SCHOOL/PROJECT/PROJET 2/PROJET2_NEW/\""
      ]
    },
    {
      "cell_type": "code",
      "execution_count": null,
      "metadata": {
        "id": "O70andA2dNYe"
      },
      "outputs": [],
      "source": [
        "def saveCsvOnfolder(df,cheminPath,nameFile):\n",
        "        if os.path.exists(f'{cheminPath}'):\n",
        "            df.to_csv(os.path.join(cheminPath,nameFile),sep=\";\")\n",
        "        else:\n",
        "            os.mkdir(f'{cheminPath}')\n",
        "            df.to_csv(os.path.join(cheminPath,nameFile),sep=\";\")"
      ]
    },
    {
      "cell_type": "code",
      "execution_count": null,
      "metadata": {
        "id": "nt9R7uCujOZU"
      },
      "outputs": [],
      "source": [
        "liste_df_save=[df_name_basics,df_title_akas,df_title_basics,df_title_crew,df_title_principal,df_rating]\n",
        "liste_name=['df_name_basics','df_title_akas','df_title_basics','df_title_crew','df_title_principal','df_rating']\n",
        "number=0\n",
        "for i in liste_df_save:\n",
        "    import os\n",
        "    saveCsvOnfolder(i,f'{path}/csv/',liste_name[number])\n",
        "    number+=1"
      ]
    },
    {
      "cell_type": "code",
      "execution_count": null,
      "metadata": {
        "id": "I1kGAsnVc7mW"
      },
      "outputs": [],
      "source": [
        "# df_name_basics.to_csv('df_name_basics.csv',sep=\";\",na_rep=\"NaN\",index=True)\n",
        "# df_title_akas.to_csv('df_title_akas.csv',sep=\";\",na_rep=\"NaN\",index=True)\n",
        "# df_title_basics.to_csv('df_title_basics.csv',sep=\";\",na_rep=\"NaN\",index=True)\n",
        "# df_title_crew.to_csv('df_title_crew.csv',sep=\";\",na_rep=\"NaN\",index=True)\n",
        "# df_title_principal.to_csv('df_title_principals.csv',sep=\";\",na_rep=\"NaN\",index=True)\n",
        "# df_rating.to_csv('df_rating.csv',sep=\";\",na_rep=\"NaN\",index=True)"
      ]
    }
  ],
  "metadata": {
    "colab": {
      "collapsed_sections": [
        "0rRyS_SV8xaz",
        "yS7cUZ_RxXGJ",
        "wjHZq1j9J6_F",
        "6MBJKgMNcBxf"
      ],
      "name": "Projet_2_part_1.ipynb",
      "provenance": [],
      "include_colab_link": true
    },
    "kernelspec": {
      "display_name": "Python 3 (ipykernel)",
      "language": "python",
      "name": "python3"
    },
    "language_info": {
      "codemirror_mode": {
        "name": "ipython",
        "version": 3
      },
      "file_extension": ".py",
      "mimetype": "text/x-python",
      "name": "python",
      "nbconvert_exporter": "python",
      "pygments_lexer": "ipython3",
      "version": "3.9.12"
    }
  },
  "nbformat": 4,
  "nbformat_minor": 0
}
